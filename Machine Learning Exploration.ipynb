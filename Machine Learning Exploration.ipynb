{
 "cells": [
  {
   "cell_type": "code",
   "execution_count": 12,
   "metadata": {},
   "outputs": [],
   "source": [
    "import pandas as pd\n",
    "import numpy as np\n",
    "import os\n",
    "import matplotlib.pyplot as plt\n",
    "\n",
    "dir_path = os.path.join(os.getcwd(), \"data\")\n",
    "\n",
    "max_min = 40 #min\n",
    "min_min = 5 #min\n",
    "n_files = max_min-min_min+1\n",
    "data = {}\n",
    "\n",
    "for i in range(n_files):\n",
    "    data[\"data_\"+str(5+i)+\"min\"] = pd.read_csv(os.path.join(dir_path, \"match_summary_\"+str(5+i)+\"min.csv\"), \n",
    "                                               dtype=int, \n",
    "                                               index_col=0)"
   ]
  },
  {
   "cell_type": "markdown",
   "metadata": {},
   "source": [
    "We start by only fitting the data at 15 minutes to determine which is the best classifier for our specific use. Only then we will fit a classifier for each time stamp."
   ]
  },
  {
   "cell_type": "code",
   "execution_count": 13,
   "metadata": {},
   "outputs": [],
   "source": [
    "data_15 = data[\"data_15min\"]\n",
    "\n",
    "attribs = list(data_15.keys())[1:]\n",
    "\n",
    "y = np.array(data_15[\"blueWin\"])\n",
    "X = data_15.drop(\"blueWin\", axis=1).values\n",
    "\n",
    "def train_val_test_split_random(X, y, test_ratio=0.1, val_ratio=0.1, random_seed=42):\n",
    "    np.random.seed(seed=random_seed)\n",
    "    shuffled_indices = np.random.permutation(len(X))\n",
    "    test_num = int(np.round(test_ratio*len(X)))\n",
    "    val_num = int(np.round(val_ratio*len(X)))\n",
    "    X_test = X[shuffled_indices[:test_num]]\n",
    "    y_test = y[shuffled_indices[:test_num]]\n",
    "    X_val = X[shuffled_indices[test_num:test_num+val_num]]\n",
    "    y_val = y[shuffled_indices[test_num:test_num+val_num]]\n",
    "    X_train = X[shuffled_indices[test_num+val_num:]]\n",
    "    y_train = y[shuffled_indices[test_num+val_num:]]\n",
    "    \n",
    "    return X_test, y_test, X_val, y_val, X_train, y_train\n",
    "\n",
    "X_test, y_test, X_val, y_val, X_train, y_train = train_val_test_split_random(X, y)"
   ]
  },
  {
   "cell_type": "code",
   "execution_count": 14,
   "metadata": {},
   "outputs": [
    {
     "name": "stdout",
     "output_type": "stream",
     "text": [
      "KNeighborsClassifier 70.41 %\n",
      "SVC 77.55 %\n",
      "DecisionTreeClassifier 59.18 %\n",
      "RandomForestClassifier 76.53 %\n",
      "SGDClassifier 74.49 %\n"
     ]
    }
   ],
   "source": [
    "from sklearn.neighbors import KNeighborsClassifier\n",
    "from sklearn.svm import SVC\n",
    "from sklearn.tree import DecisionTreeClassifier\n",
    "from sklearn.ensemble import RandomForestClassifier\n",
    "from sklearn.linear_model import SGDClassifier\n",
    "\n",
    "clf_list = [\n",
    "    KNeighborsClassifier(),\n",
    "    SVC(gamma=\"scale\"),\n",
    "    DecisionTreeClassifier(),\n",
    "    RandomForestClassifier(n_estimators=100),\n",
    "    SGDClassifier()\n",
    "]\n",
    "\n",
    "for clf in clf_list:\n",
    "    clf.fit(X_train, y_train)\n",
    "    print(clf.__class__.__name__, np.round(np.mean(clf.predict(X_val)==y_val), 4)*100, \"%\")"
   ]
  },
  {
   "cell_type": "markdown",
   "metadata": {},
   "source": [
    "You can see that the RandomForestClassifier seems to perform the best"
   ]
  },
  {
   "cell_type": "code",
   "execution_count": 18,
   "metadata": {
    "scrolled": true
   },
   "outputs": [
    {
     "name": "stdout",
     "output_type": "stream",
     "text": [
      "Fitting 3 folds for each of 90 candidates, totalling 270 fits\n"
     ]
    },
    {
     "name": "stderr",
     "output_type": "stream",
     "text": [
      "[Parallel(n_jobs=-1)]: Using backend LokyBackend with 4 concurrent workers.\n",
      "[Parallel(n_jobs=-1)]: Done  82 tasks      | elapsed:    7.8s\n",
      "[Parallel(n_jobs=-1)]: Done 203 tasks      | elapsed:   19.9s\n"
     ]
    },
    {
     "name": "stdout",
     "output_type": "stream",
     "text": [
      "RandomForestClassifier\n",
      "0.7225063938618926 {'max_depth': 10, 'max_leaf_nodes': 10, 'n_estimators': 5}\n",
      "0.7263427109974424 {'max_depth': 10, 'max_leaf_nodes': 10, 'n_estimators': 10}\n",
      "0.7327365728900256 {'max_depth': 10, 'max_leaf_nodes': 10, 'n_estimators': 20}\n",
      "0.7161125319693095 {'max_depth': 10, 'max_leaf_nodes': 10, 'n_estimators': 30}\n",
      "0.7289002557544757 {'max_depth': 10, 'max_leaf_nodes': 10, 'n_estimators': 50}\n",
      "0.7225063938618926 {'max_depth': 10, 'max_leaf_nodes': 10, 'n_estimators': 100}\n",
      "0.7058823529411765 {'max_depth': 10, 'max_leaf_nodes': 20, 'n_estimators': 5}\n",
      "0.710997442455243 {'max_depth': 10, 'max_leaf_nodes': 20, 'n_estimators': 10}\n",
      "0.7416879795396419 {'max_depth': 10, 'max_leaf_nodes': 20, 'n_estimators': 20}\n",
      "0.7250639386189258 {'max_depth': 10, 'max_leaf_nodes': 20, 'n_estimators': 30}\n",
      "0.7263427109974424 {'max_depth': 10, 'max_leaf_nodes': 20, 'n_estimators': 50}\n",
      "0.7212276214833759 {'max_depth': 10, 'max_leaf_nodes': 20, 'n_estimators': 100}\n",
      "0.7122762148337596 {'max_depth': 10, 'max_leaf_nodes': 30, 'n_estimators': 5}\n",
      "0.7084398976982097 {'max_depth': 10, 'max_leaf_nodes': 30, 'n_estimators': 10}\n",
      "0.7097186700767263 {'max_depth': 10, 'max_leaf_nodes': 30, 'n_estimators': 20}\n",
      "0.7199488491048593 {'max_depth': 10, 'max_leaf_nodes': 30, 'n_estimators': 30}\n",
      "0.731457800511509 {'max_depth': 10, 'max_leaf_nodes': 30, 'n_estimators': 50}\n",
      "0.7186700767263428 {'max_depth': 10, 'max_leaf_nodes': 30, 'n_estimators': 100}\n",
      "0.7212276214833759 {'max_depth': 30, 'max_leaf_nodes': 10, 'n_estimators': 5}\n",
      "0.7263427109974424 {'max_depth': 30, 'max_leaf_nodes': 10, 'n_estimators': 10}\n",
      "0.7250639386189258 {'max_depth': 30, 'max_leaf_nodes': 10, 'n_estimators': 20}\n",
      "0.7276214833759591 {'max_depth': 30, 'max_leaf_nodes': 10, 'n_estimators': 30}\n",
      "0.7237851662404092 {'max_depth': 30, 'max_leaf_nodes': 10, 'n_estimators': 50}\n",
      "0.7237851662404092 {'max_depth': 30, 'max_leaf_nodes': 10, 'n_estimators': 100}\n",
      "0.710997442455243 {'max_depth': 30, 'max_leaf_nodes': 20, 'n_estimators': 5}\n",
      "0.7186700767263428 {'max_depth': 30, 'max_leaf_nodes': 20, 'n_estimators': 10}\n",
      "0.7250639386189258 {'max_depth': 30, 'max_leaf_nodes': 20, 'n_estimators': 20}\n",
      "0.7186700767263428 {'max_depth': 30, 'max_leaf_nodes': 20, 'n_estimators': 30}\n",
      "0.7199488491048593 {'max_depth': 30, 'max_leaf_nodes': 20, 'n_estimators': 50}\n",
      "0.7263427109974424 {'max_depth': 30, 'max_leaf_nodes': 20, 'n_estimators': 100}\n",
      "0.717391304347826 {'max_depth': 30, 'max_leaf_nodes': 30, 'n_estimators': 5}\n",
      "0.717391304347826 {'max_depth': 30, 'max_leaf_nodes': 30, 'n_estimators': 10}\n",
      "0.7199488491048593 {'max_depth': 30, 'max_leaf_nodes': 30, 'n_estimators': 20}\n",
      "0.717391304347826 {'max_depth': 30, 'max_leaf_nodes': 30, 'n_estimators': 30}\n",
      "0.7301790281329923 {'max_depth': 30, 'max_leaf_nodes': 30, 'n_estimators': 50}\n",
      "0.7276214833759591 {'max_depth': 30, 'max_leaf_nodes': 30, 'n_estimators': 100}\n",
      "0.7212276214833759 {'max_depth': 50, 'max_leaf_nodes': 10, 'n_estimators': 5}\n",
      "0.7135549872122762 {'max_depth': 50, 'max_leaf_nodes': 10, 'n_estimators': 10}\n",
      "0.7352941176470589 {'max_depth': 50, 'max_leaf_nodes': 10, 'n_estimators': 20}\n",
      "0.7225063938618926 {'max_depth': 50, 'max_leaf_nodes': 10, 'n_estimators': 30}\n",
      "0.7289002557544757 {'max_depth': 50, 'max_leaf_nodes': 10, 'n_estimators': 50}\n",
      "0.7301790281329923 {'max_depth': 50, 'max_leaf_nodes': 10, 'n_estimators': 100}\n",
      "0.7097186700767263 {'max_depth': 50, 'max_leaf_nodes': 20, 'n_estimators': 5}\n",
      "0.7161125319693095 {'max_depth': 50, 'max_leaf_nodes': 20, 'n_estimators': 10}\n",
      "0.7327365728900256 {'max_depth': 50, 'max_leaf_nodes': 20, 'n_estimators': 20}\n",
      "0.7250639386189258 {'max_depth': 50, 'max_leaf_nodes': 20, 'n_estimators': 30}\n",
      "0.7289002557544757 {'max_depth': 50, 'max_leaf_nodes': 20, 'n_estimators': 50}\n",
      "0.7340153452685422 {'max_depth': 50, 'max_leaf_nodes': 20, 'n_estimators': 100}\n",
      "0.7058823529411765 {'max_depth': 50, 'max_leaf_nodes': 30, 'n_estimators': 5}\n",
      "0.7097186700767263 {'max_depth': 50, 'max_leaf_nodes': 30, 'n_estimators': 10}\n",
      "0.7301790281329923 {'max_depth': 50, 'max_leaf_nodes': 30, 'n_estimators': 20}\n",
      "0.7263427109974424 {'max_depth': 50, 'max_leaf_nodes': 30, 'n_estimators': 30}\n",
      "0.7212276214833759 {'max_depth': 50, 'max_leaf_nodes': 30, 'n_estimators': 50}\n",
      "0.7237851662404092 {'max_depth': 50, 'max_leaf_nodes': 30, 'n_estimators': 100}\n",
      "0.7301790281329923 {'max_depth': 70, 'max_leaf_nodes': 10, 'n_estimators': 5}\n",
      "0.7237851662404092 {'max_depth': 70, 'max_leaf_nodes': 10, 'n_estimators': 10}\n",
      "0.7237851662404092 {'max_depth': 70, 'max_leaf_nodes': 10, 'n_estimators': 20}\n",
      "0.7212276214833759 {'max_depth': 70, 'max_leaf_nodes': 10, 'n_estimators': 30}\n",
      "0.7276214833759591 {'max_depth': 70, 'max_leaf_nodes': 10, 'n_estimators': 50}\n",
      "0.7276214833759591 {'max_depth': 70, 'max_leaf_nodes': 10, 'n_estimators': 100}\n",
      "0.7237851662404092 {'max_depth': 70, 'max_leaf_nodes': 20, 'n_estimators': 5}\n",
      "0.7071611253196931 {'max_depth': 70, 'max_leaf_nodes': 20, 'n_estimators': 10}\n",
      "0.7225063938618926 {'max_depth': 70, 'max_leaf_nodes': 20, 'n_estimators': 20}\n",
      "0.7237851662404092 {'max_depth': 70, 'max_leaf_nodes': 20, 'n_estimators': 30}\n",
      "0.7186700767263428 {'max_depth': 70, 'max_leaf_nodes': 20, 'n_estimators': 50}\n",
      "0.7199488491048593 {'max_depth': 70, 'max_leaf_nodes': 20, 'n_estimators': 100}\n",
      "0.7033248081841432 {'max_depth': 70, 'max_leaf_nodes': 30, 'n_estimators': 5}\n",
      "0.7276214833759591 {'max_depth': 70, 'max_leaf_nodes': 30, 'n_estimators': 10}\n",
      "0.7199488491048593 {'max_depth': 70, 'max_leaf_nodes': 30, 'n_estimators': 20}\n",
      "0.7199488491048593 {'max_depth': 70, 'max_leaf_nodes': 30, 'n_estimators': 30}\n",
      "0.710997442455243 {'max_depth': 70, 'max_leaf_nodes': 30, 'n_estimators': 50}\n",
      "0.7148337595907929 {'max_depth': 70, 'max_leaf_nodes': 30, 'n_estimators': 100}\n",
      "0.7135549872122762 {'max_depth': 90, 'max_leaf_nodes': 10, 'n_estimators': 5}\n",
      "0.7237851662404092 {'max_depth': 90, 'max_leaf_nodes': 10, 'n_estimators': 10}\n",
      "0.7276214833759591 {'max_depth': 90, 'max_leaf_nodes': 10, 'n_estimators': 20}\n",
      "0.7097186700767263 {'max_depth': 90, 'max_leaf_nodes': 10, 'n_estimators': 30}\n",
      "0.7289002557544757 {'max_depth': 90, 'max_leaf_nodes': 10, 'n_estimators': 50}\n",
      "0.7250639386189258 {'max_depth': 90, 'max_leaf_nodes': 10, 'n_estimators': 100}\n",
      "0.7301790281329923 {'max_depth': 90, 'max_leaf_nodes': 20, 'n_estimators': 5}\n",
      "0.7352941176470589 {'max_depth': 90, 'max_leaf_nodes': 20, 'n_estimators': 10}\n",
      "0.7250639386189258 {'max_depth': 90, 'max_leaf_nodes': 20, 'n_estimators': 20}\n",
      "0.7250639386189258 {'max_depth': 90, 'max_leaf_nodes': 20, 'n_estimators': 30}\n",
      "0.7097186700767263 {'max_depth': 90, 'max_leaf_nodes': 20, 'n_estimators': 50}\n",
      "0.7250639386189258 {'max_depth': 90, 'max_leaf_nodes': 20, 'n_estimators': 100}\n",
      "0.7033248081841432 {'max_depth': 90, 'max_leaf_nodes': 30, 'n_estimators': 5}\n",
      "0.7161125319693095 {'max_depth': 90, 'max_leaf_nodes': 30, 'n_estimators': 10}\n",
      "0.7058823529411765 {'max_depth': 90, 'max_leaf_nodes': 30, 'n_estimators': 20}\n",
      "0.7225063938618926 {'max_depth': 90, 'max_leaf_nodes': 30, 'n_estimators': 30}\n",
      "0.7186700767263428 {'max_depth': 90, 'max_leaf_nodes': 30, 'n_estimators': 50}\n",
      "0.7289002557544757 {'max_depth': 90, 'max_leaf_nodes': 30, 'n_estimators': 100}\n"
     ]
    },
    {
     "name": "stderr",
     "output_type": "stream",
     "text": [
      "[Parallel(n_jobs=-1)]: Done 270 out of 270 | elapsed:   26.8s finished\n"
     ]
    }
   ],
   "source": [
    "from sklearn.model_selection import GridSearchCV\n",
    "\n",
    "rfc=RandomForestClassifier()\n",
    "\n",
    "param_grid_rfc = [\n",
    "    {'n_estimators': [5, 10, 20, 30, 50, 100], 'max_depth': [10, 30, 50, 70, 90], \"max_leaf_nodes\": [10, 20, 30]}\n",
    "]\n",
    "\n",
    "grid_search_rfc = GridSearchCV(rfc, param_grid_rfc, cv=3, n_jobs=-1, verbose=2, scoring=\"accuracy\")\n",
    "grid_search_rfc.fit(X_train, y_train)\n",
    "\n",
    "cvres = grid_search_rfc.cv_results_\n",
    "\n",
    "print(rfc.__class__.__name__)\n",
    "for mean_score, params in zip(cvres[\"mean_test_score\"], cvres[\"params\"]):\n",
    "    print(mean_score, params)\n",
    "    \n",
    "best_estimator = grid_search_rfc.best_estimator_"
   ]
  },
  {
   "cell_type": "code",
   "execution_count": 17,
   "metadata": {},
   "outputs": [
    {
     "data": {
      "text/plain": [
       "RandomForestClassifier(bootstrap=True, class_weight=None, criterion='gini',\n",
       "                       max_depth=50, max_features='auto', max_leaf_nodes=20,\n",
       "                       min_impurity_decrease=0.0, min_impurity_split=None,\n",
       "                       min_samples_leaf=1, min_samples_split=2,\n",
       "                       min_weight_fraction_leaf=0.0, n_estimators=10,\n",
       "                       n_jobs=None, oob_score=False, random_state=None,\n",
       "                       verbose=0, warm_start=False)"
      ]
     },
     "execution_count": 17,
     "metadata": {},
     "output_type": "execute_result"
    }
   ],
   "source": [
    "best_estimator"
   ]
  },
  {
   "cell_type": "markdown",
   "metadata": {},
   "source": [
    "Now that we have determined the best classifier we can train it on the data for each minute. This will be done in another ***jupyter notebook***."
   ]
  },
  {
   "cell_type": "code",
   "execution_count": null,
   "metadata": {},
   "outputs": [],
   "source": []
  }
 ],
 "metadata": {
  "kernelspec": {
   "display_name": "Python 3",
   "language": "python",
   "name": "python3"
  },
  "language_info": {
   "codemirror_mode": {
    "name": "ipython",
    "version": 3
   },
   "file_extension": ".py",
   "mimetype": "text/x-python",
   "name": "python",
   "nbconvert_exporter": "python",
   "pygments_lexer": "ipython3",
   "version": "3.6.3"
  }
 },
 "nbformat": 4,
 "nbformat_minor": 2
}
